{
 "cells": [
  {
   "cell_type": "markdown",
   "id": "c365e02f-2068-43be-9ea9-7215cb5bcecb",
   "metadata": {},
   "source": [
    "### Evaluating predicted 'artifact-free' predicted images by the trained model."
   ]
  },
  {
   "cell_type": "code",
   "execution_count": null,
   "id": "1c75a06f-c689-4e36-8583-ec8861984587",
   "metadata": {},
   "outputs": [],
   "source": [
    "import os\n",
    "import sys\n",
    "import csv\n",
    "import math\n",
    "import scipy.io\n",
    "import random\n",
    "import copy\n",
    "import time\n",
    "\n",
    "import numpy as np\n",
    "import matplotlib.pyplot as plt\n",
    "import imshow_grid as ig\n",
    "from datetime import datetime\n",
    "from skimage.metrics import structural_similarity as ssim\n",
    "from IPython import display\n",
    "from IPython.display import clear_output\n",
    "from dataclasses import dataclass\n",
    "\n",
    "import ImportantFunctions as ImFunc"
   ]
  },
  {
   "cell_type": "markdown",
   "id": "4dcc8fec-d02b-462b-8878-a64861e8d3a2",
   "metadata": {},
   "source": [
    "#### 1. Setup"
   ]
  },
  {
   "cell_type": "code",
   "execution_count": null,
   "id": "71fde75c-670f-412b-ae78-5b0e0515010b",
   "metadata": {},
   "outputs": [],
   "source": [
    "os.environ[\"CUDA_DEVICE_ORDER\"]=\"PCI_BUS_ID\"\n",
    "os.environ[\"CUDA_VISIBLE_DEVICES\"]=\"?\"\n",
    "\n",
    "# check GPU in-use:\n",
    "print(tf.test.is_built_with_cuda())\n",
    "print(tf.config.list_physical_devices('GPU'))\n",
    "print(tf.test.gpu_device_name())\n",
    "print(tf.test.is_gpu_available())"
   ]
  },
  {
   "cell_type": "code",
   "execution_count": null,
   "id": "ddb1be51-02e8-4157-9078-f33713d9c8c5",
   "metadata": {},
   "outputs": [],
   "source": [
    "# set paths:\n",
    "checkpoint_dir, TB_logs_dir = ???, ???\n",
    "test_path = ???\n",
    "csv_path = result_path = ???, ??? #for storing evaluation results and predicted images\n",
    "PatLungDict = ??? #a dictionary to select only CT slices corresponding to lung region \n",
    "\n",
    "if not os.path.exists(checkpoint_dir):\n",
    "    os.makedirs(checkpoint_dir)\n",
    "\n",
    "if not os.path.exists(TB_logs_dir):\n",
    "    os.makedirs(TB_logs_dir)\n",
    "    \n",
    "pat_gt_path, pat_input_path, pat_pred_path = ???,???, ???\n",
    "pat_gt_path_img, pat_pred_path_img = ???, ???\n",
    "                 \n",
    "if not os.path.exists(pat_gt_path):\n",
    "    os.makedirs(pat_gt_path_res)\n",
    "if not os.path.exists(pat_input_path):\n",
    "    os.makedirs(pat_input_path_res)\n",
    "if not os.path.exists(pat_pred_path):\n",
    "    os.makedirs(pat_pred_path_res)\n",
    "if not os.path.exists(pat_gt_path_img):\n",
    "    os.makedirs(pat_gt_path_img)\n",
    "if not os.path.exists(pat_pred_path_img):\n",
    "    os.makedirs(pat_pred_path_img)"
   ]
  },
  {
   "cell_type": "code",
   "execution_count": null,
   "id": "524dcd7a-3153-435c-9c85-0c5db1a43fee",
   "metadata": {},
   "outputs": [],
   "source": [
    "# define dataclasses\n",
    "@dataclass\n",
    "class standard_values:\n",
    "    net_type: str\n",
    "    epochs: int\n",
    "    batch_size: int\n",
    "    learning_rate: float\n",
    "    geometry: str\n",
    "    checkpoint_dir:str=checkpoint_dir\n",
    "    val_path:str=val_path\n",
    "    train_path:str=train_path\n",
    "    test_path=test_path\n",
    "    log_dir:str=TB_logs_dir\n",
    "   \n",
    "@dataclass\n",
    "class specific_run:\n",
    "    angle_list: list\n",
    "    chosen_date: str\n",
    "    wanted_epoch: int"
   ]
  },
  {
   "cell_type": "code",
   "execution_count": null,
   "id": "ff4492c0-fad5-407f-8c32-364c49f97bda",
   "metadata": {},
   "outputs": [],
   "source": [
    "# get the epoch and model of interest\n",
    "netsdict_res_short={\n",
    "    (\"unet\", \"general\"):standard_values(net_type=\"Unet\", epochs=30, batch_size=6, learning_rate=0.001, geometry=\"parallel\"),\n",
    "    (\"unet\", 16):specific_run(angle_list=[16], \n",
    "                              chosen_date=\"YYYY_MM_DD__HH_MM\", wanted_epoch=??),\n",
    "    (\"unet\", 32):specific_run(angle_list=[32], \n",
    "                              chosen_date=\"YYYY_MM_DD__HH_MM\", wanted_epoch=??),\n",
    "    (\"unet\", 64):specific_run(angle_list=[64], \n",
    "                              chosen_date=\"YYYY_MM_DD__HH_MM\", wanted_epoch=??),\n",
    "    (\"unet\", 128):specific_run(angle_list=[128], \n",
    "                               chosen_date=\"YYYY_MM_DD__HH_MM\", wanted_epoch=??),\n",
    "    (\"unet\", 256):specific_run(angle_list=[256], \n",
    "                               chosen_date=\"YYYY_MM_DD__HH_MM\", wanted_epoch=??),\n",
    "    (\"unet\", 512):specific_run(angle_list=[512], \n",
    "                               chosen_date=\"YYYY_MM_DD__HH_MM\", wanted_epoch=??),\n",
    "    (\"dualunet\", \"general\"):standard_values(net_type=\"dualUnet\", epochs=30, batch_size=6, learning_rate=0.001, geometry=\"parallel\"),\n",
    "    (\"dualunet\", 16):specific_run(angle_list=[16], \n",
    "                                  chosen_date=\"YYYY_MM_DD__HH_MM\", wanted_epoch=??),\n",
    "    (\"dualunet\", 32):specific_run(angle_list=[32], \n",
    "                                  chosen_date=\"YYYY_MM_DD__HH_MM\", wanted_epoch=??),\n",
    "    (\"dualunet\", 64):specific_run(angle_list=[64], \n",
    "                                  chosen_date=\"YYYY_MM_DD__HH_MM\", wanted_epoch=??),\n",
    "    (\"dualunet\", 128):specific_run(angle_list=[128], \n",
    "                                   chosen_date=\"YYYY_MM_DD__HH_MM\", wanted_epoch=??),\n",
    "    (\"dualunet\", 256):specific_run(angle_list=[256], \n",
    "                                   chosen_date=\"YYYY_MM_DD__HH_MM\", wanted_epoch=??),\n",
    "    (\"dualunet\", 512):specific_run(angle_list=[512], \n",
    "                                   chosen_date=\"YYYY_MM_DD__HH_MM\", wanted_epoch=??)\n",
    "    }"
   ]
  },
  {
   "cell_type": "markdown",
   "id": "d82ebb7d-9dd1-40ef-9e57-f2e3518f2742",
   "metadata": {},
   "source": [
    "#### 2. Evaluate and save results"
   ]
  },
  {
   "cell_type": "code",
   "execution_count": null,
   "id": "8ce26964-71ac-4334-aa8c-765846036723",
   "metadata": {},
   "outputs": [],
   "source": [
    "training_angles=[[16], [32], [64], [128], [256], [512]]\n",
    "testing_angles=[[16], [32], [64], [128], [256], [512]]\n",
    "nets=[\"unet\", \"dualunet\"]\n",
    "header=[\"net_type\", \"training_angle\", \"testing_angle\", \"metric\", \"value\"] #for csv file"
   ]
  },
  {
   "cell_type": "code",
   "execution_count": null,
   "id": "0b0d1114-3903-4c08-a012-da8f578893f5",
   "metadata": {},
   "outputs": [],
   "source": [
    "# open the file in the write mode\n",
    "f = open('evalResults.csv', 'w')\n",
    "writer = csv.writer(f)\n",
    "writer.writerow(header)\n",
    "for net in nets:\n",
    "    for training_angle in training_angles:\n",
    "        for testing_angle in testing_angles:\n",
    "            if (len(training_angle)==1 and training_angle==testing_angle): \n",
    "                print(\"train: %s, test:%s\"%(str(training_angle), str(testing_angle)))\n",
    "                \n",
    "                imgsres, valsres, imgsimg, valsimg = ImFunc.get_evaluation_residual(netsdict_res_short[net, \"general\"],netsdict_res_short[net, int(ImFunc.get_anglenames(copy.deepcopy(training_angle)))], return_images=True, diff_testdata=[True, testing_angle], LungDict=PatLungDict)\n",
    "\n",
    "                writer.writerow([net, training_angle, testing_angle, \"psnr_res\", np.mean(valsres[0])])\n",
    "                writer.writerow([net, training_angle, testing_angle, \"mse_res\", np.mean(valsres[1])])\n",
    "                writer.writerow([net, training_angle, testing_angle, \"ssim_res\", np.mean(valsres[2])])\n",
    "                writer.writerow([net, training_angle, testing_angle, \"psnr_img\", np.mean(valsimg[0])])\n",
    "                writer.writerow([net, training_angle, testing_angle, \"mse_img\", np.mean(valsimg[1])])\n",
    "                writer.writerow([net, training_angle, testing_angle, \"ssim_img\", np.mean(valsimg[2])])\n",
    "                \n",
    "                #iterate over patients\n",
    "                for i in range(len(imgsres[0])):\n",
    "                    #iterate over slices\n",
    "                    for x in range(len(imgsres[0][i])):\n",
    "                        pat_name=imgsres[-1][i][x].split(\"_\")[0]\n",
    "            \n",
    "                        np.save(pat_gt_path+\"/\"+imgsres[-1][i][x], imgsres[2][i][x])\n",
    "                        np.save(pat_input_path+\"/\"+imgsres[-1][i][x], imgsres[1][i][x])\n",
    "                        np.save(pat_pred_path+\"/\"+imgsres[-1][i][x], imgsres[0][i][x])\n",
    "                        \n",
    "                        np.save(pat_gt_path_img+\"/\"+imgsimg[-1][i][x], imgsimg[2][i][x])\n",
    "                        np.save(pat_pred_path_img+\"/\"+imgsimg[-1][i][x], imgsimg[0][i][x])\n",
    "                        \n",
    "            # close the file\n",
    "f.close()"
   ]
  }
 ],
 "metadata": {
  "kernelspec": {
   "display_name": "Python 3 (ipykernel)",
   "language": "python",
   "name": "python3"
  },
  "language_info": {
   "codemirror_mode": {
    "name": "ipython",
    "version": 3
   },
   "file_extension": ".py",
   "mimetype": "text/x-python",
   "name": "python",
   "nbconvert_exporter": "python",
   "pygments_lexer": "ipython3",
   "version": "3.8.10"
  }
 },
 "nbformat": 4,
 "nbformat_minor": 5
}
