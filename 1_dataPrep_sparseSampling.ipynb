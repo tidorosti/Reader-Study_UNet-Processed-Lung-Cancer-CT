{
 "cells": [
  {
   "cell_type": "markdown",
   "id": "d8c6eb9e-3470-4ec6-bb85-5caf8f15ef97",
   "metadata": {},
   "source": [
    "### Preparing sparse-view sparse-sampled CT images with astra toolbox."
   ]
  },
  {
   "cell_type": "code",
   "execution_count": null,
   "id": "939eb4f1-a576-4558-be13-2a665ebbf16c",
   "metadata": {},
   "outputs": [],
   "source": [
    "import numpy as np\n",
    "import astra\n",
    "import os\n",
    "import requests\n",
    "\n",
    "from ImportantFunctions import get_sparse_data_slice"
   ]
  },
  {
   "cell_type": "markdown",
   "id": "e44a77a4-b51b-42ae-8432-f2284e473be3",
   "metadata": {},
   "source": [
    "#### 1. Set GPU"
   ]
  },
  {
   "cell_type": "code",
   "execution_count": null,
   "id": "d8a8d45f-42a3-4272-82fd-7440c5b7996a",
   "metadata": {},
   "outputs": [],
   "source": [
    "# set GPU\n",
    "os.environ[\"CUDA_DEVICE_ORDER\"]=\"PCI_BUS_ID\"\n",
    "os.environ[\"CUDA_VISIBLE_DEVICES\"]=\"?\""
   ]
  },
  {
   "cell_type": "markdown",
   "id": "46389780-92cb-4b8c-b1af-601344182152",
   "metadata": {},
   "source": [
    "#### 2. Sparse sampling:"
   ]
  },
  {
   "cell_type": "code",
   "execution_count": null,
   "id": "5c170e4f-f4c9-4a51-a417-e30b5bf27560",
   "metadata": {},
   "outputs": [],
   "source": [
    "# set varaibles:\n",
    "series = ??? # input data to sparse sample; nparray of patient CTs (e.g. Luna16 data)\n",
    "my_save_dir= ??? #directory to save the sparse-sampled data to\n",
    "\n",
    "num_angles_list = [32] #list of numbers of projections \n",
    "my_geometry = \"parallel\" #possible geometries, parallel or fanflat\n",
    "my_beam_shape = \"flat\"\n",
    "my_filter_type=\"ram-lak\"\n",
    "my_processing_unit=\"GPU\"\n",
    "my_det_width = 1.0 # distance between centers of two adjacent pixels\n",
    "my_det_count = 900 # number of detector pixels in a single projection (pixels in one detector row)\n",
    "my_source_origin = 570 #distance source to center of rotation (=source to patient?)\n",
    "my_origin_det = 470 #distance center of rotation and detector array (=patient to detector?)"
   ]
  },
  {
   "cell_type": "code",
   "execution_count": null,
   "id": "f66695b8-1a74-48bb-bb00-2e9dbb87a266",
   "metadata": {},
   "outputs": [],
   "source": [
    "for num_angles in num_angles_list:\n",
    "    series_count = 0\n",
    "    angles = np.linspace(0., np.pi, num_angles) #list of all projection angles\n",
    "    \n",
    "    for s in range(0, series.shape[0]): #for serie in series:\n",
    "        temp_patID = series_names[s] #serie.info[\"PatientID\"]\n",
    "        temp_path = my_save_dir+\"/{}/{}_angles/{}\".format(my_geometry, num_angles, temp_patID)\n",
    "        instance_count = 0\n",
    "        \n",
    "        for i in range(0, series[s].shape[0]):\n",
    "            reco = get_sparse_data_slice(series[s][i], angles, filter_type=my_filter_type,\n",
    "                                         geometry=my_geometry, beam_shape=my_beam_shape, \n",
    "                                         det_width=my_det_width, det_count=my_det_count,\n",
    "                                         source_origin=my_source_origin, origin_det=my_origin_det,\n",
    "                                         processing_unit=my_processing_unit)\n",
    "            \n",
    "            name=temp_path+ \"/{}_{}.npy\".format(temp_patID, instance_count)\n",
    "            instance_count+=1\n",
    "            \n",
    "            if not os.path.exists(temp_path):\n",
    "                os.makedirs(temp_path)\n",
    "            np.save(name, np.array(reco))\n",
    "            #print(name)\n",
    "            \n",
    "        series_count+=1"
   ]
  }
 ],
 "metadata": {
  "kernelspec": {
   "display_name": "Python 3 (ipykernel)",
   "language": "python",
   "name": "python3"
  },
  "language_info": {
   "codemirror_mode": {
    "name": "ipython",
    "version": 3
   },
   "file_extension": ".py",
   "mimetype": "text/x-python",
   "name": "python",
   "nbconvert_exporter": "python",
   "pygments_lexer": "ipython3",
   "version": "3.8.10"
  }
 },
 "nbformat": 4,
 "nbformat_minor": 5
}
