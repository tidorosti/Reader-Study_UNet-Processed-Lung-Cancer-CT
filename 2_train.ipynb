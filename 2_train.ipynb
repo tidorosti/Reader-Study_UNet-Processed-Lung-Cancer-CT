{
 "cells": [
  {
   "cell_type": "markdown",
   "id": "bdba9e9f-e75c-4ea6-a9c8-54f696d62bc7",
   "metadata": {},
   "source": [
    "### Training U-Net model for sparse-view artifact correction."
   ]
  },
  {
   "cell_type": "code",
   "execution_count": null,
   "id": "fcd71f6b-f505-4b88-931b-6d523b12c798",
   "metadata": {},
   "outputs": [],
   "source": [
    "import math\n",
    "import scipy.io\n",
    "import random\n",
    "import os\n",
    "import sys\n",
    "import time\n",
    "import numpy as np\n",
    "import matplotlib.pyplot as plt\n",
    "import imshow_grid as ig\n",
    "from datetime import datetime\n",
    "from skimage.metrics import structural_similarity as ssim\n",
    "\n",
    "import tensorflow as tf\n",
    "from tensorflow.keras import regularizers\n",
    "from tensorflow.keras import optimizers\n",
    "from tensorflow.keras.optimizers import schedules\n",
    "from tensorflow.keras.models import Sequential, Model, load_model\n",
    "from tensorflow.keras.callbacks import ModelCheckpoint, EarlyStopping, LearningRateScheduler, TensorBoard\n",
    "from tensorflow.keras.layers import Input, Conv2D, Conv3D, Conv3DTranspose, Lambda, Reshape, Add, MaxPooling2D, UpSampling2D, Subtract, Activation\n",
    "from tensorflow.keras.layers import Concatenate\n",
    "import tensorflow.keras.backend as K\n",
    "from tensorboard import summary\n",
    "from IPython import display\n",
    "from IPython.display import clear_output\n",
    "\n",
    "import ImportantFunctions as ImFunc"
   ]
  },
  {
   "cell_type": "markdown",
   "id": "ceeb07df-6440-44cc-a261-01df4e1e8b64",
   "metadata": {},
   "source": [
    "#### 1. Setup"
   ]
  },
  {
   "cell_type": "code",
   "execution_count": null,
   "id": "7db16ab9-257c-49f5-8479-00f4044a243c",
   "metadata": {},
   "outputs": [],
   "source": [
    "# set GPU:\n",
    "os.environ[\"CUDA_DEVICE_ORDER\"]=\"PCI_BUS_ID\"\n",
    "os.environ[\"CUDA_VISIBLE_DEVICES\"]=\"?\"\n",
    "\n",
    "# check GPU in-use:\n",
    "print(tf.test.is_built_with_cuda())\n",
    "print(tf.config.list_physical_devices('GPU'))\n",
    "print(tf.test.gpu_device_name())\n",
    "print(tf.test.is_gpu_available())"
   ]
  },
  {
   "cell_type": "code",
   "execution_count": null,
   "id": "079cec97-c7ef-4066-813c-8e3200d33fc4",
   "metadata": {},
   "outputs": [],
   "source": [
    "# set parameters:\n",
    "patience = 20\n",
    "batch_size = 6\n",
    "init_lr = 0.001\n",
    "num_epochs = 30\n",
    "angle_list=[128]\n",
    "N = 512 #image size\n",
    "geometry='parallel' # \"parallel\" or \"fanflat\" possible\n",
    "tag = 'dualUnet' # tag of the used U-Net variant"
   ]
  },
  {
   "cell_type": "code",
   "execution_count": null,
   "id": "5e9719a0-8020-46ae-840e-d57fd111617d",
   "metadata": {},
   "outputs": [],
   "source": [
    "# set paths:\n",
    "train_path, val_path, test_path = ???, ???, ???\n",
    "checkpoint_dir, TB_logs_dir = ???, ???\n",
    "\n",
    "if not os.path.exists(checkpoint_dir):\n",
    "    os.makedirs(checkpoint_dir)\n",
    "\n",
    "if not os.path.exists(TB_logs_dir):\n",
    "    os.makedirs(TB_logs_dir)"
   ]
  },
  {
   "cell_type": "code",
   "execution_count": null,
   "id": "fadceeef-4388-4c77-8cf5-b185f61a31ab",
   "metadata": {},
   "outputs": [],
   "source": [
    "# create paths for checkpoints and Tensorboard logs:\n",
    "full_checkpoint_path = os.path.join(checkpoint_dir, \"{}_{}_bs{}_lr{}_ep{}\".format(tag, ImFunc.get_anglenames(angle_list), batch_size, init_lr, num_epochs), datetime.now().strftime(\"%Y_%m_%d__%H_%M\"))\n",
    "\n",
    "full_TB_logs_path = os.path.join(TB_logs_dir, \"{}_{}_bs{}_lr{}_ep{}\".format(tag, ImFunc.get_anglenames(angle_list), batch_size, init_lr, num_epochs), datetime.now().strftime(\"%Y_%m_%d__%H_%M\"))\n",
    "\n",
    "if not os.path.exists(full_checkpoint_path):\n",
    "    os.makedirs(full_checkpoint_path)\n",
    "\n",
    "if not os.path.exists(full_TB_logs_path):\n",
    "    os.makedirs(full_TB_logs_path)"
   ]
  },
  {
   "cell_type": "code",
   "execution_count": null,
   "id": "678a7858-60d3-495b-b9fe-7d1ac4fa5635",
   "metadata": {},
   "outputs": [],
   "source": [
    "file_writer = tf.summary.create_file_writer(full_TB_logs_path + '/logs')\n",
    "checkpoint = ModelCheckpoint(filepath = full_checkpoint_path + '/{epoch:d}',\n",
    "                             monitor='val_loss', verbose=0, save_freq = 'epoch',\n",
    "                             mode ='auto')\n",
    "earlystop = EarlyStopping(monitor='val_loss', min_delta=0, patience=patience,\n",
    "                          verbose=1, mode='min', restore_best_weights = False)\n",
    "tensorboard = TensorBoard(log_dir= os.path.join(full_TB_logs_path, \"logs\"),\n",
    "                          histogram_freq=1, write_graph=True, write_images=False,\n",
    "                          update_freq=20, profile_batch=0, embeddings_freq=0,\n",
    "                          embeddings_metadata=None)\n",
    "\n",
    "MyCallbacks = [checkpoint, earlystop, tensorboard, ImFunc.lr_scheduler]"
   ]
  },
  {
   "cell_type": "markdown",
   "id": "145db27e-aeb3-4439-badb-71dccbf34774",
   "metadata": {},
   "source": [
    "#### 2. Generate data"
   ]
  },
  {
   "cell_type": "code",
   "execution_count": null,
   "id": "cf9a2a3b-39fe-400d-908b-9a50fc3e424f",
   "metadata": {},
   "outputs": [],
   "source": [
    "# train and validation set:\n",
    "train_gen = ImFunc.generate_batches_residual(train_path, geometry, batch_size, angle_list)\n",
    "val_gen = ImFunc.generate_batches_residual(val_path, geometry, batch_size, angle_list)\n",
    "\n",
    "# number of steps:\n",
    "steps_per_epoch = ImFunc.get_number_of_steps(train_path, geometry, batch_size)\n",
    "val_steps = ImFunc.get_number_of_steps(val_path, geometry, batch_size)"
   ]
  },
  {
   "cell_type": "markdown",
   "id": "2d418a19-08fc-4252-8c3e-c1ac697f9f3a",
   "metadata": {},
   "source": [
    "#### 3. Train"
   ]
  },
  {
   "cell_type": "code",
   "execution_count": null,
   "id": "1ff5c70d-735e-4738-9446-55d4912e230a",
   "metadata": {},
   "outputs": [],
   "source": [
    "# make model:\n",
    "model = ImFunc.make_or_restore_current_model(full_checkpoint_path, tag, init_lr, img_dim=N)\n",
    "\n",
    "# fit the model:\n",
    "history = model.fit(train_gen, steps_per_epoch = steps_per_epoch, epochs = num_epochs,\n",
    "                    verbose=1, validation_data=val_gen, validation_steps= val_steps, \n",
    "                    callbacks = MyCallbacks)"
   ]
  },
  {
   "cell_type": "markdown",
   "id": "017a1c33-48b8-4989-aa4e-a7217e7f278f",
   "metadata": {},
   "source": [
    "#### ../Checkpoints/.."
   ]
  },
  {
   "cell_type": "code",
   "execution_count": null,
   "id": "2b2971be-9ac4-4395-a0d7-24c545c3f4c9",
   "metadata": {},
   "outputs": [],
   "source": [
    "# restoring model and setting new learning rate:\n",
    "wanted_epoch = 11\n",
    "model = ImFunc.restore_model_from_epoch(full_checkpoint_path, wanted_epoch)\n",
    "\n",
    "print(\"Current learning rate: {}\".format(K.get_value(model.optimizer.lr)))"
   ]
  }
 ],
 "metadata": {
  "kernelspec": {
   "display_name": "Python 3 (ipykernel)",
   "language": "python",
   "name": "python3"
  },
  "language_info": {
   "codemirror_mode": {
    "name": "ipython",
    "version": 3
   },
   "file_extension": ".py",
   "mimetype": "text/x-python",
   "name": "python",
   "nbconvert_exporter": "python",
   "pygments_lexer": "ipython3",
   "version": "3.8.10"
  }
 },
 "nbformat": 4,
 "nbformat_minor": 5
}
