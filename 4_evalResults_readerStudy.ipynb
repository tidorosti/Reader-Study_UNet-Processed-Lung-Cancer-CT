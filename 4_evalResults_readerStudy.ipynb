{
 "cells": [
  {
   "cell_type": "markdown",
   "id": "c60f1e0a-b5a2-4097-90b2-fa1d18662b76",
   "metadata": {},
   "source": [
    "#### Analyzing data from the reader study; creating corresponding plots, and calculating metrics."
   ]
  },
  {
   "cell_type": "code",
   "execution_count": null,
   "id": "9e27115c-556b-413d-998c-326e670965a1",
   "metadata": {},
   "outputs": [],
   "source": [
    "import pandas as pd\n",
    "import matplotlib.pyplot as plt\n",
    "import numpy as np\n",
    "import scipy.stats as sst\n",
    "import csv\n",
    "\n",
    "from ImportantFunctions import getLabelMeanPerAngle, getLabelsFromDf, getLabelsFromDf_readerLevel "
   ]
  },
  {
   "cell_type": "markdown",
   "id": "edffbef5-f5ad-4358-b19a-d1f54ff1c275",
   "metadata": {},
   "source": [
    "#### 1. Read and store data"
   ]
  },
  {
   "cell_type": "code",
   "execution_count": null,
   "id": "6e10daea-0bcc-4b4e-9724-7f043880b828",
   "metadata": {},
   "outputs": [],
   "source": [
    "df = pd.read_csv(\"ResultsReaderStudy_short.csv\")\n",
    "\n",
    "quality, confidence, artifact, dice = getLabelsFromDf(df)\n",
    "\n",
    "quality_sparse, quality_unet = quality[0], quality[1]\n",
    "confidence_sparse, confidence_unet = confidence[0], confidence[1]\n",
    "artifact_sparse, artifact_unet = artifact[0], artifact[1]\n",
    "dice_sparse, dice_unet = dice[0], dice[1]"
   ]
  },
  {
   "cell_type": "markdown",
   "id": "90bca83c-ea2e-43ad-971f-c2de5139dd06",
   "metadata": {},
   "source": [
    "#### 2. Clustered wilcoxon signed rank test"
   ]
  },
  {
   "cell_type": "code",
   "execution_count": null,
   "id": "326c4df3-7510-4148-b3d4-44a4f4b59500",
   "metadata": {},
   "outputs": [],
   "source": [
    "# create clusters for three readers:\n",
    "clusters = np.ones((np.shape(quality_sparse[0]))) #reader 1\n",
    "clusters[19:2*19] = clusters[19:2*19]*2 # reader 2\n",
    "clusters[2*19:3*19] = clusters[2*19:3*19]*3 # reader 3\n",
    "\n",
    "# print p-values\n",
    "print('quality')\n",
    "for i in range(5):\n",
    "    print(2**(i+4),' views')\n",
    "    z, p = clustered_signed_rank_wilcoxon(quality_sparse[i], quality_unet[i], clusters)\n",
    "    print('p-value: ',round(p,4))\n",
    "print('\\n confidence')   \n",
    "for i in range(5):\n",
    "    print(2**(i+4),' views')\n",
    "    z, p = clustered_signed_rank_wilcoxon(confidence_sparse[i], confidence_unet[i], clusters)\n",
    "    print('p-value: ',round(p,5))\n",
    "print('\\n artifact')\n",
    "for i in range(5):\n",
    "    print(2**(i+4),' views')\n",
    "    z, p = clustered_signed_rank_wilcoxon(artifact_sparse[i], artifact_unet[i], clusters)\n",
    "    print('p-value: ',round(p,4))\n",
    "\n",
    "print('\\n DSC')\n",
    "for i in range(1,5):\n",
    "    print(2**(i+4),' views')\n",
    "    if len(dice_sparse[i])-len(dice_unet[i])!=0 and len(dice_sparse_s[i])> len(dice_unet_s[i]):\n",
    "        _, p = clustered_signed_rank_wilcoxon(dice_sparse[i][:len(dice_unet[i])], dice_unet[i], clusters)\n",
    "    elif len(dice_sparse[i])==len(dice_unet[i]):\n",
    "        _, p = clustered_signed_rank_wilcoxon(dice_sparse[i], dice_unet[i], clusters)\n",
    "    else:\n",
    "        _, p = clustered_signed_rank_wilcoxon(dice_sparse[i], dice_unet[i][:len(dice_sparse[i])], clusters)\n",
    "    print(round(p,4))"
   ]
  },
  {
   "cell_type": "markdown",
   "id": "d0743b5b-5bea-4a73-81c2-2d9872e80b69",
   "metadata": {},
   "source": [
    "#### 3. Plot results"
   ]
  },
  {
   "cell_type": "code",
   "execution_count": null,
   "id": "9fec11b5-0a14-4f05-9c6d-26ffd9aee04b",
   "metadata": {},
   "outputs": [],
   "source": [
    "width = 0.4\n",
    "x = np.arange(5)\n",
    "\n",
    "fig, axs = plt.subplots(2, 2, figsize=(15, 15))\n",
    "\n",
    "# Plot each subplot\n",
    "plot_subplot(axs[0, 0], quality_sparse_mean, quality_unet_mean, 'A) Quality Labels', 'Mean (1-6 possible)', ylim=5.05)\n",
    "plot_subplot(axs[0, 1], confidence_sparse_mean, confidence_unet_mean, 'B) Confidence Labels', 'Mean (1-6 possible)', ylim=5.05)\n",
    "plot_subplot(axs[1, 0], artifact_sparse_mean, artifact_unet_mean, 'C) Artifact Labels', 'Mean (1-4 possible)', ylim=5.05)\n",
    "plot_subplot(axs[1, 1], dice_sparse_mean_s, dice_unet_mean_s, 'D) Segmentation Overlap', 'Mean Dice Similarity Coefficient')\n",
    "\n",
    "handles, labels = axs[0, 0].get_legend_handles_labels()\n",
    "fig.legend(handles, labels, loc=\"upper right\", bbox_to_anchor=(1.03, 0.95), fontsize=\"x-large\")\n",
    "plt.tight_layout()\n",
    "#plt.savefig(\"resullts.pdf\", format='pdf')\n",
    "plt.show()"
   ]
  },
  {
   "cell_type": "markdown",
   "id": "7a4efab1-ed22-4d09-a392-a7fb83bb7c12",
   "metadata": {},
   "source": [
    "#### 4. Get confusion matrix values"
   ]
  },
  {
   "cell_type": "code",
   "execution_count": null,
   "id": "1985ac4c-d656-45fc-94a3-c531aade0a62",
   "metadata": {},
   "outputs": [],
   "source": [
    "# a) define dictionaty\n",
    "VFT_tpo = {} #values for False and True cases \n",
    "keys = [16, 32, 64, 128, 256]\n",
    "metrics = {\"tp\": 0, \"tn\": 0, \"fp\": 0, \"fn\": 0}\n",
    "\n",
    "for category in [\"predct\", \"sparse\"]:\n",
    "    VFT_tpo[category] = {key: dict(metrics) for key in keys}\n",
    "\n",
    "reader = ['r1','r2','r3']\n",
    "for idx in range(len(df[\"patientid\"])):\n",
    "    method=df[\"method\"][idx]\n",
    "    angle=df[\"angles\"][idx]\n",
    "    sum_gtmask=df[\"len_gtmask\"][idx]\n",
    "    sum_rmask=df[\"len_rmask\"][idx]\n",
    "    dice=df[\"dice\"][idx]\n",
    "    if df[\"reader\"][idx] in reader:\n",
    "        if sum_gtmask==0 and sum_rmask==0:\n",
    "            VFT_tpo[method][angle][\"tn\"]+=1\n",
    "            #print(\"tn case\", dice, df[\"reader\"][idx], df[\"patientid\"][idx], df[\"angles\"][idx], df[\"method\"][idx])\n",
    "        elif sum_gtmask==0 and sum_rmask>0:\n",
    "            VFT_tpo[method][angle][\"fp\"]+=1\n",
    "            #print(\"XXXXX fp case\", sum_rmask, df[\"reader\"][idx], df[\"patientid\"][idx], df[\"angles\"][idx], df[\"method\"][idx])\n",
    "        elif sum_gtmask>0 and sum_rmask==0:\n",
    "            VFT_tpo[method][angle][\"fn\"]+=1\n",
    "            #print(\"fn no tumor found case\", dice, df[\"reader\"][idx], df[\"patientid\"][idx], df[\"angles\"][idx], df[\"method\"][idx])\n",
    "        elif sum_gtmask>0 and sum_rmask>0 and dice>0:\n",
    "            VFT_tpo[method][angle][\"tp\"]+=1\n",
    "            #print(\"tp case\", dice, df[\"reader\"][idx], df[\"patientid\"][idx], df[\"angles\"][idx], df[\"method\"][idx])\n",
    "        elif sum_gtmask>0 and sum_rmask>0 and dice==0:\n",
    "            VFT_tpo[method][angle][\"fn\"]+=1\n",
    "            #print(\"fn met at wrong location case\", dice, df[\"reader\"][idx], df[\"patientid\"][idx], df[\"angles\"][idx], df[\"method\"][idx])\n",
    "            #print(df[\"reader\"][idx], df[\"patientid\"][idx], df[\"angles\"][idx], df[\"method\"][idx], \"marked tumor at wrong location\")"
   ]
  },
  {
   "cell_type": "code",
   "execution_count": null,
   "id": "7798f995-faf6-4f97-8cfa-0f7a6bbf9cbf",
   "metadata": {},
   "outputs": [],
   "source": [
    "# b) print confusion matrix (and uncomment to save to csv file)\n",
    "\n",
    "#f = open('R?_CM.csv', 'w')\n",
    "#writer = csv.writer(f)\n",
    "for method in VFT_tpo.keys():\n",
    "    #writer.writerow([method, \"\", \"\", \"\"])\n",
    "    print(\"method: %s\"%method)\n",
    "    for angle in VFT_tpo[method].keys():\n",
    "        print(\"    %s projection angles\"%angle)\n",
    "        print(\"        reader/true    +        -\")\n",
    "        print(\"                +      %s       %s           sum:%s\"%(VFT_tpo[method][angle][\"tp\"], VFT_tpo[method][angle][\"fp\"], VFT_tpo[method][angle][\"tp\"]+VFT_tpo[method][angle][\"fp\"]))\n",
    "        print(\"                -      %s       %s           sum:%s\"%(VFT_tpo[method][angle][\"fn\"], VFT_tpo[method][angle][\"tn\"], VFT_tpo[method][angle][\"fn\"]+VFT_tpo[method][angle][\"tn\"]))\n",
    "        print(\"                                                     \")\n",
    "        print(\"                  sum: %s       %s\"%(VFT_tpo[method][angle][\"tp\"]+VFT_tpo[method][angle][\"fn\"], VFT_tpo[method][angle][\"fp\"]+VFT_tpo[method][angle][\"tn\"]))\n",
    "        print(\"                                                     \")\n",
    "        \n",
    "        #writer.writerow([angle, \"projection angles\", \"\", \"\"])\n",
    "        #writer.writerow([\"r_t\", \"+\", \"-\", \"sum\"])\n",
    "        #writer.writerow([\"+\", VFT_tpo[method][angle][\"tp\"], VFT_tpo[method][angle][\"fp\"], VFT_tpo[method][angle][\"tp\"]+VFT_tpo[method][angle][\"fp\"]])\n",
    "        #writer.writerow([\"-\", VFT_tpo[method][angle][\"fn\"], VFT_tpo[method][angle][\"tn\"], VFT_tpo[method][angle][\"fn\"]+VFT_tpo[method][angle][\"tn\"]])\n",
    "        #writer.writerow([\"sum\", VFT_tpo[method][angle][\"tp\"]+VFT_tpo[method][angle][\"fn\"], VFT_tpo[method][angle][\"fp\"]+VFT_tpo[method][angle][\"tn\"], \"\"])\n",
    "#f.close()"
   ]
  },
  {
   "cell_type": "code",
   "execution_count": null,
   "id": "d0ad5db8-f1ae-42cb-8a10-9e2202a2907f",
   "metadata": {},
   "outputs": [],
   "source": [
    "# c) print corresponding sensitivity, specificity, F1, and negative predictive value metrics (and uncomment to save to csv file)\n",
    "\n",
    "#f = open('R?_Metrics.csv', 'w')\n",
    "#writer = csv.writer(f)\n",
    "for method in VFT_tpo.keys():\n",
    "    #writer.writerow([method, \"\", \"\", \"\"])\n",
    "    print(\"method: %s\"%method)\n",
    "    for angle in VFT_tpo[method].keys():\n",
    "        Se = VFT_tpo[method][angle][\"tp\"] / (VFT_tpo[method][angle][\"tp\"]+VFT_tpo[method][angle][\"fn\"])\n",
    "        Sp = VFT_tpo[method][angle][\"tn\"] / (VFT_tpo[method][angle][\"fp\"]+VFT_tpo[method][angle][\"tn\"])\n",
    "        F1 = (2*VFT_tpo[method][angle][\"tp\"])/((2*VFT_tpo[method][angle][\"tp\"]) + VFT_tpo[method][angle][\"fp\"] + VFT_tpo[method][angle][\"fn\"])\n",
    "        NPV = VFT_tpo[method][angle][\"tn\"] / (VFT_tpo[method][angle][\"tn\"] + VFT_tpo[method][angle][\"fn\"])\n",
    "        \n",
    "        print(\"    %s projection angles\"%angle)\n",
    "        print(\"        Se:     %s\"%(round(Se, 2)))\n",
    "        print(\"        Sp:     %s\"%(round(Sp, 2)))\n",
    "        print(\"        F1:     %s\"%(round(F1, 2)))\n",
    "        print(\"        NPV:    %s\"%(round(NPV, 2)))\n",
    "        print(\"                \")\n",
    "        \n",
    "        #writer.writerow([angle, \"projection angles\", \"\", \"\"])\n",
    "        #writer.writerow([\"Se\", Se])\n",
    "        #writer.writerow([\"Sp\", Sp])\n",
    "        #writer.writerow([\"F1\", F1])\n",
    "        #writer.writerow([\"NPV\", NPV])\n",
    "#f.close()"
   ]
  }
 ],
 "metadata": {
  "kernelspec": {
   "display_name": "Python 3 (ipykernel)",
   "language": "python",
   "name": "python3"
  },
  "language_info": {
   "codemirror_mode": {
    "name": "ipython",
    "version": 3
   },
   "file_extension": ".py",
   "mimetype": "text/x-python",
   "name": "python",
   "nbconvert_exporter": "python",
   "pygments_lexer": "ipython3",
   "version": "3.8.10"
  }
 },
 "nbformat": 4,
 "nbformat_minor": 5
}
